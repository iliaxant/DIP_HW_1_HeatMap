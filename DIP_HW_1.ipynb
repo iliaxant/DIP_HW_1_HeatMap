{
  "nbformat": 4,
  "nbformat_minor": 0,
  "metadata": {
    "colab": {
      "provenance": [],
      "authorship_tag": "ABX9TyPIL6VB1ZFwkGwPe2999dAc",
      "include_colab_link": true
    },
    "kernelspec": {
      "name": "python3",
      "display_name": "Python 3"
    },
    "language_info": {
      "name": "python"
    }
  },
  "cells": [
    {
      "cell_type": "markdown",
      "metadata": {
        "id": "view-in-github",
        "colab_type": "text"
      },
      "source": [
        "<a href=\"https://colab.research.google.com/github/iliaxant/DIP_HW_1_HeatCamera/blob/main/DIP_HW_1.ipynb\" target=\"_parent\"><img src=\"https://colab.research.google.com/assets/colab-badge.svg\" alt=\"Open In Colab\"/></a>"
      ]
    },
    {
      "cell_type": "markdown",
      "source": [],
      "metadata": {
        "id": "8Uxhh3sp3hsm"
      }
    },
    {
      "cell_type": "markdown",
      "source": [],
      "metadata": {
        "id": "5GVlQPXK3rzp"
      }
    },
    {
      "cell_type": "code",
      "execution_count": null,
      "metadata": {
        "id": "KUDgCLp600B_"
      },
      "outputs": [],
      "source": []
    },
    {
      "cell_type": "markdown",
      "source": [],
      "metadata": {
        "id": "9JgT34pJ3lTj"
      }
    },
    {
      "cell_type": "code",
      "source": [],
      "metadata": {
        "id": "w2wjfcpN3k01"
      },
      "execution_count": null,
      "outputs": []
    },
    {
      "cell_type": "markdown",
      "source": [],
      "metadata": {
        "id": "vjV50xvO3l9G"
      }
    },
    {
      "cell_type": "code",
      "source": [],
      "metadata": {
        "id": "_oBN8RZ43mJd"
      },
      "execution_count": null,
      "outputs": []
    },
    {
      "cell_type": "markdown",
      "source": [],
      "metadata": {
        "id": "bXiBubIE3mUV"
      }
    },
    {
      "cell_type": "code",
      "source": [],
      "metadata": {
        "id": "UKPToGaS3lwi"
      },
      "execution_count": null,
      "outputs": []
    },
    {
      "cell_type": "markdown",
      "source": [],
      "metadata": {
        "id": "F6aci5ef3pop"
      }
    },
    {
      "cell_type": "code",
      "source": [],
      "metadata": {
        "id": "Q4mv5AKi3p6q"
      },
      "execution_count": null,
      "outputs": []
    },
    {
      "cell_type": "markdown",
      "source": [],
      "metadata": {
        "id": "W7chytDY3qSk"
      }
    },
    {
      "cell_type": "code",
      "source": [],
      "metadata": {
        "id": "OnNZy2Lw3qgJ"
      },
      "execution_count": null,
      "outputs": []
    },
    {
      "cell_type": "markdown",
      "source": [],
      "metadata": {
        "id": "2Qtr0laU3qtb"
      }
    },
    {
      "cell_type": "code",
      "source": [],
      "metadata": {
        "id": "XSTn0n583q2d"
      },
      "execution_count": null,
      "outputs": []
    }
  ]
}